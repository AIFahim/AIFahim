{
  "nbformat": 4,
  "nbformat_minor": 0,
  "metadata": {
    "colab": {
      "name": "Training With Glove Model LSTM.ipynb",
      "provenance": [],
      "collapsed_sections": [],
      "authorship_tag": "ABX9TyOYAdbEgxYyaBxSg2xeOigh",
      "include_colab_link": true
    },
    "kernelspec": {
      "display_name": "Python 3",
      "name": "python3"
    },
    "language_info": {
      "name": "python"
    }
  },
  "cells": [
    {
      "cell_type": "markdown",
      "metadata": {
        "id": "view-in-github",
        "colab_type": "text"
      },
      "source": [
        "<a href=\"https://colab.research.google.com/github/AIFahim/AIFahim/blob/main/Training_With_Glove_Model_LSTM.ipynb\" target=\"_parent\"><img src=\"https://colab.research.google.com/assets/colab-badge.svg\" alt=\"Open In Colab\"/></a>"
      ]
    },
    {
      "cell_type": "markdown",
      "metadata": {
        "id": "5wfRNh2knxbT"
      },
      "source": [
        "## Importing required Libraries"
      ]
    },
    {
      "cell_type": "code",
      "metadata": {
        "id": "25pWvw-4nuvi"
      },
      "source": [
        "import pandas as pd\n",
        "import matplotlib.pyplot as plt\n",
        "import seaborn as sns\n",
        "import numpy as np\n",
        "from nltk.corpus import stopwords\n",
        "from nltk.util import ngrams\n",
        "from sklearn.feature_extraction.text import CountVectorizer\n",
        "from collections import defaultdict\n",
        "from collections import  Counter\n",
        "plt.style.use('ggplot')\n",
        "import re\n",
        "from nltk.tokenize import word_tokenize\n",
        "import gensim\n",
        "import string\n",
        "\n",
        "from keras import backend as K\n",
        "from keras.preprocessing.text import Tokenizer\n",
        "from keras.preprocessing.sequence import pad_sequences\n",
        "from tqdm import tqdm\n",
        "from keras.models import Sequential\n",
        "from keras.layers import Embedding,LSTM,Dense,SpatialDropout1D\n",
        "from keras.initializers import Constant\n",
        "from sklearn.model_selection import train_test_split\n",
        "from sklearn.preprocessing import LabelEncoder\n",
        "from sklearn.metrics import confusion_matrix, f1_score\n",
        "# from keras.optimizers import Adam\n",
        "from tensorflow.keras.optimizers import Adam\n",
        "\n",
        "import plotly.express as px\n",
        "\n",
        "import zipfile\n",
        "\n",
        "\n",
        "\n",
        "import tensorflow.keras as keras \n",
        "import tensorflow as tf\n",
        "import tensorflow_hub as hub\n",
        "\n",
        "\n",
        "\n",
        "class color: # Text style\n",
        "   PURPLE = '\\033[95m'\n",
        "   CYAN = '\\033[96m'\n",
        "   DARKCYAN = '\\033[36m'\n",
        "   BLUE = '\\033[94m'\n",
        "   GREEN = '\\033[92m'\n",
        "   YELLOW = '\\033[93m'\n",
        "   RED = '\\033[91m'\n",
        "   BOLD = '\\033[1m'\n",
        "   UNDERLINE = '\\033[4m'\n",
        "   END = '\\033[0m'"
      ],
      "execution_count": null,
      "outputs": []
    },
    {
      "cell_type": "markdown",
      "metadata": {
        "id": "uzsI2cA9kcRe"
      },
      "source": [
        "## Loading the data and getting besic information about data"
      ]
    },
    {
      "cell_type": "code",
      "metadata": {
        "colab": {
          "base_uri": "https://localhost:8080/"
        },
        "id": "yofjm-ZQjf56",
        "outputId": "dd5cabe5-475e-47f0-b048-cb78dc496dff"
      },
      "source": [
        "# Download Dataset\n",
        "!gdown --id 1boKJGs-XUWsxz6JocgU7wyhf8nSayr7k # train csv\n",
        "!gdown --id 1WLTPLk8oJ0XDduXnzLmxM3xwlChsgs81 # test csv\n",
        "!gdown --id 1-6MlDGVEZlLFQliVL6Hgxee1wnpi_yeG # full data csv after added new clean text column"
      ],
      "execution_count": null,
      "outputs": [
        {
          "name": "stdout",
          "output_type": "stream",
          "text": [
            "Downloading...\n",
            "From: https://drive.google.com/uc?id=1boKJGs-XUWsxz6JocgU7wyhf8nSayr7k\n",
            "To: /content/train.csv\n",
            "100% 859M/859M [00:04<00:00, 198MB/s]\n",
            "Downloading...\n",
            "From: https://drive.google.com/uc?id=1WLTPLk8oJ0XDduXnzLmxM3xwlChsgs81\n",
            "To: /content/test.csv\n",
            "100% 854M/854M [00:03<00:00, 246MB/s]\n",
            "Downloading...\n",
            "From: https://drive.google.com/uc?id=1-6MlDGVEZlLFQliVL6Hgxee1wnpi_yeG\n",
            "To: /content/fulldata.csv\n",
            "100% 2.39G/2.39G [00:19<00:00, 125MB/s]\n"
          ]
        }
      ]
    },
    {
      "cell_type": "code",
      "metadata": {
        "colab": {
          "background_save": true
        },
        "id": "06A_IYgdm3-D"
      },
      "source": [
        "train= pd.read_csv('/content/train.csv')\n",
        "test=pd.read_csv('/content/test.csv')\n",
        "fulldata = pd.read_csv(\"/content/fulldata.csv\")"
      ],
      "execution_count": null,
      "outputs": []
    },
    {
      "cell_type": "code",
      "metadata": {
        "colab": {
          "background_save": true
        },
        "id": "4Lfy6T2S2sqz",
        "outputId": "35acbe8c-429b-456d-dc37-c16d168e5506"
      },
      "source": [
        "fulldata.head()"
      ],
      "execution_count": null,
      "outputs": [
        {
          "data": {
            "text/html": [
              "<div>\n",
              "<style scoped>\n",
              "    .dataframe tbody tr th:only-of-type {\n",
              "        vertical-align: middle;\n",
              "    }\n",
              "\n",
              "    .dataframe tbody tr th {\n",
              "        vertical-align: top;\n",
              "    }\n",
              "\n",
              "    .dataframe thead th {\n",
              "        text-align: right;\n",
              "    }\n",
              "</style>\n",
              "<table border=\"1\" class=\"dataframe\">\n",
              "  <thead>\n",
              "    <tr style=\"text-align: right;\">\n",
              "      <th></th>\n",
              "      <th>Unnamed: 0</th>\n",
              "      <th>category</th>\n",
              "      <th>text</th>\n",
              "      <th>cleanText</th>\n",
              "      <th>new_clean_text</th>\n",
              "    </tr>\n",
              "  </thead>\n",
              "  <tbody>\n",
              "    <tr>\n",
              "      <th>0</th>\n",
              "      <td>0</td>\n",
              "      <td>education</td>\n",
              "      <td>অধ্যায়-২প্রিয় পরীক্ষার্থী, আজ তথ্য ও যোগাযোগ প...</td>\n",
              "      <td>অধ্যায়    প্রিয়    পরীক্ষার্থী    তথ্য    যো...</td>\n",
              "      <td>অধ্যায় প্রিয় পরীক্ষার্থী তথ্য যোগাযোগ প্রযুক্ত...</td>\n",
              "    </tr>\n",
              "    <tr>\n",
              "      <th>1</th>\n",
              "      <td>1</td>\n",
              "      <td>sports</td>\n",
              "      <td>স্পিন, স্পিন, স্পিন। লর্ডসে ইয়াসির শাহ্‌র লেগ ...</td>\n",
              "      <td>স্পিন    স্পিন    স্পিন    লর্ডসে    ইয়াসির ...</td>\n",
              "      <td>স্পিন স্পিন স্পিন লর্ডসে ইয়াসির শাহ্ লেগ স্পিন...</td>\n",
              "    </tr>\n",
              "    <tr>\n",
              "      <th>2</th>\n",
              "      <td>2</td>\n",
              "      <td>international</td>\n",
              "      <td>সিরিয়ার উত্তর-পশ্চিমাঞ্চলে গতকাল রোববার বিমান...</td>\n",
              "      <td>সিরিয়ার    উত্তর    পশ্চিমাঞ্চলে    গতকাল  ...</td>\n",
              "      <td>সিরিয়ার পশ্চিমাঞ্চলে গতকাল রোববার বিমান হামলা...</td>\n",
              "    </tr>\n",
              "    <tr>\n",
              "      <th>3</th>\n",
              "      <td>3</td>\n",
              "      <td>international</td>\n",
              "      <td>দক্ষিণ আফ্রিকার কেপটাউন বিশ্ববিদ্যালয়ের (ইউসিট...</td>\n",
              "      <td>দক্ষিণ    আফ্রিকার    কেপটাউন    বিশ্ববিদ্যা...</td>\n",
              "      <td>দক্ষিণ আফ্রিকার কেপটাউন বিশ্ববিদ্যালয়ের ইউসিটি...</td>\n",
              "    </tr>\n",
              "    <tr>\n",
              "      <th>4</th>\n",
              "      <td>4</td>\n",
              "      <td>technology</td>\n",
              "      <td>সহজে ডিজিটাল আর্থিক সেবা দিতে অ্যাপ ও ডিজিটাল ...</td>\n",
              "      <td>সহজে    ডিজিটাল    আর্থিক    সেবা    অ্যাপ  ...</td>\n",
              "      <td>সহজে ডিজিটাল আর্থিক সেবা অ্যাপ ডিজিটাল কেওয়াইস...</td>\n",
              "    </tr>\n",
              "  </tbody>\n",
              "</table>\n",
              "</div>"
            ],
            "text/plain": [
              "   Unnamed: 0  ...                                     new_clean_text\n",
              "0           0  ...  অধ্যায় প্রিয় পরীক্ষার্থী তথ্য যোগাযোগ প্রযুক্ত...\n",
              "1           1  ...  স্পিন স্পিন স্পিন লর্ডসে ইয়াসির শাহ্ লেগ স্পিন...\n",
              "2           2  ...  সিরিয়ার পশ্চিমাঞ্চলে গতকাল রোববার বিমান হামলা...\n",
              "3           3  ...  দক্ষিণ আফ্রিকার কেপটাউন বিশ্ববিদ্যালয়ের ইউসিটি...\n",
              "4           4  ...  সহজে ডিজিটাল আর্থিক সেবা অ্যাপ ডিজিটাল কেওয়াইস...\n",
              "\n",
              "[5 rows x 5 columns]"
            ]
          },
          "execution_count": null,
          "metadata": {},
          "output_type": "execute_result"
        }
      ]
    },
    {
      "cell_type": "code",
      "metadata": {
        "colab": {
          "background_save": true
        },
        "id": "4LZN-YpQ2v0k",
        "outputId": "97c401ff-ad2c-4c1b-a772-786efbc4be22"
      },
      "source": [
        "fulldata.columns"
      ],
      "execution_count": null,
      "outputs": [
        {
          "data": {
            "text/plain": [
              "Index(['Unnamed: 0', 'category', 'text', 'cleanText', 'new_clean_text'], dtype='object')"
            ]
          },
          "execution_count": null,
          "metadata": {},
          "output_type": "execute_result"
        }
      ]
    },
    {
      "cell_type": "code",
      "metadata": {
        "colab": {
          "background_save": true
        },
        "id": "Lb334Z9t3izW",
        "outputId": "5d8b5bb6-2bbd-4e46-fb7e-6301c37b9546"
      },
      "source": [
        "fulldata.pop('Unnamed: 0') # Remove unexpected column"
      ],
      "execution_count": null,
      "outputs": [
        {
          "data": {
            "text/plain": [
              "0             0\n",
              "1             1\n",
              "2             2\n",
              "3             3\n",
              "4             4\n",
              "          ...  \n",
              "197762    98878\n",
              "197763    98879\n",
              "197764    98880\n",
              "197765    98881\n",
              "197766    98882\n",
              "Name: Unnamed: 0, Length: 197767, dtype: int64"
            ]
          },
          "execution_count": null,
          "metadata": {},
          "output_type": "execute_result"
        }
      ]
    },
    {
      "cell_type": "code",
      "metadata": {
        "colab": {
          "background_save": true
        },
        "id": "8o_LCDlj4Avd",
        "outputId": "ee2f56b4-0fbd-4687-c3f7-04c05a433853"
      },
      "source": [
        "fulldata.head()"
      ],
      "execution_count": null,
      "outputs": [
        {
          "data": {
            "text/html": [
              "<div>\n",
              "<style scoped>\n",
              "    .dataframe tbody tr th:only-of-type {\n",
              "        vertical-align: middle;\n",
              "    }\n",
              "\n",
              "    .dataframe tbody tr th {\n",
              "        vertical-align: top;\n",
              "    }\n",
              "\n",
              "    .dataframe thead th {\n",
              "        text-align: right;\n",
              "    }\n",
              "</style>\n",
              "<table border=\"1\" class=\"dataframe\">\n",
              "  <thead>\n",
              "    <tr style=\"text-align: right;\">\n",
              "      <th></th>\n",
              "      <th>category</th>\n",
              "      <th>text</th>\n",
              "      <th>cleanText</th>\n",
              "      <th>new_clean_text</th>\n",
              "    </tr>\n",
              "  </thead>\n",
              "  <tbody>\n",
              "    <tr>\n",
              "      <th>0</th>\n",
              "      <td>education</td>\n",
              "      <td>অধ্যায়-২প্রিয় পরীক্ষার্থী, আজ তথ্য ও যোগাযোগ প...</td>\n",
              "      <td>অধ্যায়    প্রিয়    পরীক্ষার্থী    তথ্য    যো...</td>\n",
              "      <td>অধ্যায় প্রিয় পরীক্ষার্থী তথ্য যোগাযোগ প্রযুক্ত...</td>\n",
              "    </tr>\n",
              "    <tr>\n",
              "      <th>1</th>\n",
              "      <td>sports</td>\n",
              "      <td>স্পিন, স্পিন, স্পিন। লর্ডসে ইয়াসির শাহ্‌র লেগ ...</td>\n",
              "      <td>স্পিন    স্পিন    স্পিন    লর্ডসে    ইয়াসির ...</td>\n",
              "      <td>স্পিন স্পিন স্পিন লর্ডসে ইয়াসির শাহ্ লেগ স্পিন...</td>\n",
              "    </tr>\n",
              "    <tr>\n",
              "      <th>2</th>\n",
              "      <td>international</td>\n",
              "      <td>সিরিয়ার উত্তর-পশ্চিমাঞ্চলে গতকাল রোববার বিমান...</td>\n",
              "      <td>সিরিয়ার    উত্তর    পশ্চিমাঞ্চলে    গতকাল  ...</td>\n",
              "      <td>সিরিয়ার পশ্চিমাঞ্চলে গতকাল রোববার বিমান হামলা...</td>\n",
              "    </tr>\n",
              "    <tr>\n",
              "      <th>3</th>\n",
              "      <td>international</td>\n",
              "      <td>দক্ষিণ আফ্রিকার কেপটাউন বিশ্ববিদ্যালয়ের (ইউসিট...</td>\n",
              "      <td>দক্ষিণ    আফ্রিকার    কেপটাউন    বিশ্ববিদ্যা...</td>\n",
              "      <td>দক্ষিণ আফ্রিকার কেপটাউন বিশ্ববিদ্যালয়ের ইউসিটি...</td>\n",
              "    </tr>\n",
              "    <tr>\n",
              "      <th>4</th>\n",
              "      <td>technology</td>\n",
              "      <td>সহজে ডিজিটাল আর্থিক সেবা দিতে অ্যাপ ও ডিজিটাল ...</td>\n",
              "      <td>সহজে    ডিজিটাল    আর্থিক    সেবা    অ্যাপ  ...</td>\n",
              "      <td>সহজে ডিজিটাল আর্থিক সেবা অ্যাপ ডিজিটাল কেওয়াইস...</td>\n",
              "    </tr>\n",
              "  </tbody>\n",
              "</table>\n",
              "</div>"
            ],
            "text/plain": [
              "        category  ...                                     new_clean_text\n",
              "0      education  ...  অধ্যায় প্রিয় পরীক্ষার্থী তথ্য যোগাযোগ প্রযুক্ত...\n",
              "1         sports  ...  স্পিন স্পিন স্পিন লর্ডসে ইয়াসির শাহ্ লেগ স্পিন...\n",
              "2  international  ...  সিরিয়ার পশ্চিমাঞ্চলে গতকাল রোববার বিমান হামলা...\n",
              "3  international  ...  দক্ষিণ আফ্রিকার কেপটাউন বিশ্ববিদ্যালয়ের ইউসিটি...\n",
              "4     technology  ...  সহজে ডিজিটাল আর্থিক সেবা অ্যাপ ডিজিটাল কেওয়াইস...\n",
              "\n",
              "[5 rows x 4 columns]"
            ]
          },
          "execution_count": null,
          "metadata": {},
          "output_type": "execute_result"
        }
      ]
    },
    {
      "cell_type": "markdown",
      "metadata": {
        "id": "WvVEHpIwIrJm"
      },
      "source": [
        "## Preprocessing"
      ]
    },
    {
      "cell_type": "markdown",
      "metadata": {
        "id": "7wCCq851JLMq"
      },
      "source": [
        "### Convert Categories String to  Categories Number "
      ]
    },
    {
      "cell_type": "code",
      "metadata": {
        "colab": {
          "background_save": true
        },
        "id": "CbzTSrpEJRNR"
      },
      "source": [
        "def label_encoding(dataset,bool):\n",
        "  '''\n",
        "  This function will convert categorical class names into a numeric label\n",
        "\n",
        "  Args:\n",
        "  dataset: A dataset\n",
        "  bool : a boolean (True or False)\n",
        "\n",
        "  returns:\n",
        "  labels: encoded labels \n",
        "  '''\n",
        "  le = LabelEncoder()\n",
        "  le.fit(dataset.category)\n",
        "  encoded_labels = le.transform(dataset.category)\n",
        "  labels = np.array(encoded_labels) # Converting into numpy array\n",
        "  class_names =le.classes_ ## Define the class names again\n",
        "  if bool == True:\n",
        "    print(color.BOLD+\"\\n\\t\\t\\t===== Label Encoding =====\"+color.END,\"\\nClass Names:-->\",le.classes_)\n",
        "  return labels "
      ],
      "execution_count": null,
      "outputs": []
    },
    {
      "cell_type": "code",
      "metadata": {
        "colab": {
          "background_save": true
        },
        "id": "5FPaJy3tJuIr",
        "outputId": "f4a81685-f520-4811-e02f-63fd37382633"
      },
      "source": [
        "labels = label_encoding(fulldata,True)"
      ],
      "execution_count": null,
      "outputs": [
        {
          "name": "stdout",
          "output_type": "stream",
          "text": [
            "\u001b[1m\n",
            "\t\t\t===== Label Encoding =====\u001b[0m \n",
            "Class Names:--> ['economy' 'education' 'entertainment' 'international' 'sports' 'state'\n",
            " 'technology']\n"
          ]
        }
      ]
    },
    {
      "cell_type": "markdown",
      "metadata": {
        "id": "ayH5i1hR7_ps"
      },
      "source": [
        "### Glove for Vectorization\n",
        "\n",
        "Use Glove pretrained corpus model to represent words."
      ]
    },
    {
      "cell_type": "code",
      "metadata": {
        "colab": {
          "background_save": true
        },
        "id": "yKQazhtf4L1J",
        "outputId": "827986c4-55b2-4ca6-9390-41818bd2b32a"
      },
      "source": [
        "!gdown --id 1hau9l8myQOVF2cR4GBPeCtUDi5UOk1_P # Download Bengali GloVe Word Vectors"
      ],
      "execution_count": null,
      "outputs": [
        {
          "name": "stdout",
          "output_type": "stream",
          "text": [
            "Downloading...\n",
            "From: https://drive.google.com/uc?id=1hau9l8myQOVF2cR4GBPeCtUDi5UOk1_P\n",
            "To: /content/bn_glove.39M.100d.txt\n",
            "100% 173M/173M [00:00<00:00, 212MB/s]\n"
          ]
        }
      ]
    },
    {
      "cell_type": "code",
      "metadata": {
        "colab": {
          "background_save": true
        },
        "id": "a1oC3Ezs_eqB",
        "outputId": "455932c0-1510-4c21-a5eb-7a02752c9243"
      },
      "source": [
        "# import and define Blnp for tokenizer\n",
        "!pip install bnlp_toolkit\n",
        "from bnlp import NLTKTokenizer \n",
        "bnltk = NLTKTokenizer()"
      ],
      "execution_count": null,
      "outputs": [
        {
          "name": "stdout",
          "output_type": "stream",
          "text": [
            "Collecting bnlp_toolkit\n",
            "  Downloading bnlp_toolkit-3.1.2-py3-none-any.whl (17 kB)\n",
            "Requirement already satisfied: numpy in /usr/local/lib/python3.7/dist-packages (from bnlp_toolkit) (1.19.5)\n",
            "Collecting gensim==4.0.1\n",
            "  Downloading gensim-4.0.1-cp37-cp37m-manylinux1_x86_64.whl (23.9 MB)\n",
            "\u001b[K     |████████████████████████████████| 23.9 MB 1.1 MB/s \n",
            "\u001b[?25hCollecting sentencepiece\n",
            "  Downloading sentencepiece-0.1.96-cp37-cp37m-manylinux_2_17_x86_64.manylinux2014_x86_64.whl (1.2 MB)\n",
            "\u001b[K     |████████████████████████████████| 1.2 MB 63.0 MB/s \n",
            "\u001b[?25hRequirement already satisfied: scipy in /usr/local/lib/python3.7/dist-packages (from bnlp_toolkit) (1.4.1)\n",
            "Requirement already satisfied: nltk in /usr/local/lib/python3.7/dist-packages (from bnlp_toolkit) (3.2.5)\n",
            "Collecting sklearn-crfsuite\n",
            "  Downloading sklearn_crfsuite-0.3.6-py2.py3-none-any.whl (12 kB)\n",
            "Requirement already satisfied: wasabi in /usr/local/lib/python3.7/dist-packages (from bnlp_toolkit) (0.8.2)\n",
            "Requirement already satisfied: smart-open>=1.8.1 in /usr/local/lib/python3.7/dist-packages (from gensim==4.0.1->bnlp_toolkit) (5.2.1)\n",
            "Requirement already satisfied: six in /usr/local/lib/python3.7/dist-packages (from nltk->bnlp_toolkit) (1.15.0)\n",
            "Requirement already satisfied: tqdm>=2.0 in /usr/local/lib/python3.7/dist-packages (from sklearn-crfsuite->bnlp_toolkit) (4.62.3)\n",
            "Collecting python-crfsuite>=0.8.3\n",
            "  Downloading python_crfsuite-0.9.7-cp37-cp37m-manylinux1_x86_64.whl (743 kB)\n",
            "\u001b[K     |████████████████████████████████| 743 kB 67.5 MB/s \n",
            "\u001b[?25hRequirement already satisfied: tabulate in /usr/local/lib/python3.7/dist-packages (from sklearn-crfsuite->bnlp_toolkit) (0.8.9)\n",
            "Installing collected packages: python-crfsuite, sklearn-crfsuite, sentencepiece, gensim, bnlp-toolkit\n",
            "  Attempting uninstall: gensim\n",
            "    Found existing installation: gensim 3.6.0\n",
            "    Uninstalling gensim-3.6.0:\n",
            "      Successfully uninstalled gensim-3.6.0\n",
            "Successfully installed bnlp-toolkit-3.1.2 gensim-4.0.1 python-crfsuite-0.9.7 sentencepiece-0.1.96 sklearn-crfsuite-0.3.6\n"
          ]
        },
        {
          "data": {
            "application/vnd.colab-display-data+json": {
              "pip_warning": {
                "packages": [
                  "gensim"
                ]
              }
            }
          },
          "metadata": {},
          "output_type": "display_data"
        },
        {
          "name": "stdout",
          "output_type": "stream",
          "text": [
            "punkt not found. downloading...\n",
            "[nltk_data] Downloading package punkt to /root/nltk_data...\n",
            "[nltk_data]   Unzipping tokenizers/punkt.zip.\n"
          ]
        }
      ]
    },
    {
      "cell_type": "code",
      "metadata": {
        "colab": {
          "background_save": true
        },
        "id": "AQOWXhBL9oVO"
      },
      "source": [
        "from bnlp.corpus import stopwords\n",
        "\n",
        "def create_corpus(df):\n",
        "    \"\"\"\n",
        "    This function will return the tokenizer of using bnltk tokenizer. \n",
        "    \n",
        "    Args:\n",
        "        df: dataset corpus\n",
        "        \n",
        "    Returns:\n",
        "        corpus: tokenized corpus \n",
        "        \n",
        "    \"\"\"\n",
        "\n",
        "    corpus=[]\n",
        "    for train in tqdm(df['new_clean_text']):\n",
        "        words=[word for word in bnltk.word_tokenize(train) if( (word not in stopwords))]    \n",
        "        corpus.append(words)\n",
        "    return corpus     "
      ],
      "execution_count": null,
      "outputs": []
    },
    {
      "cell_type": "code",
      "metadata": {
        "colab": {
          "background_save": true
        },
        "id": "Bx3pT-PF-kzu",
        "outputId": "1f4ddf2c-fa6c-4d28-fef8-867f30253e67"
      },
      "source": [
        "corpus=create_corpus(fulldata)"
      ],
      "execution_count": null,
      "outputs": [
        {
          "name": "stderr",
          "output_type": "stream",
          "text": [
            "100%|██████████| 197767/197767 [07:36<00:00, 432.97it/s]\n"
          ]
        }
      ]
    },
    {
      "cell_type": "code",
      "metadata": {
        "colab": {
          "background_save": true
        },
        "id": "KvhdBO46AJ6I",
        "outputId": "52a7142a-30c9-4c9b-810b-41ade20d0056"
      },
      "source": [
        "# Check corpus\n",
        "\n",
        "for i,_ in enumerate(corpus):\n",
        "  print(_)\n",
        "  if i == 5:\n",
        "    break"
      ],
      "execution_count": null,
      "outputs": [
        {
          "name": "stdout",
          "output_type": "stream",
          "text": [
            "['অধ্যায়', 'প্রিয়', 'পরীক্ষার্থী', 'তথ্য', 'যোগাযোগ', 'প্রযুক্তি', 'বিষয়ের', 'সৃজনশীল', 'নমুনা', 'প্রশ্নোত্তর', 'করিম', 'সাহেব', 'একজন', 'ব্যবসায়ী', 'ছোট', 'ভাই', 'মাসুদকে', 'অফিসের', 'কম্পিউটারগুলো', 'পরস্পরের', 'সংযোগের', 'কেব্ল', 'অর্থসাশ্রয়ী', 'সহজে', 'স্থাপনযোগ্য', 'ছোট', 'ভাই', 'মাসুদের', 'অফিসে', 'দেখলেন', 'অফিসে', 'সেদিন', 'কম্পিউটার', 'অনুসন্ধানে', 'কম্পিউটারের', 'সংযোগ', 'কেব্ল', 'নষ্ট', 'পরের', 'ভাইয়ের', 'অফিসে', 'দেখলেন', 'অফিসের', 'কম্পিউটার', 'কেন্দ্রীয়', 'ডিভাইসের', 'সংযুক্ত', 'মডেম', 'ট্রান্সমিশন', 'মোডে', 'উভয়', 'ডেটা', 'আদান', 'প্রদান', 'ব্যাখ্যা', 'করো', 'করিম', 'সাহেবের', 'অফিসে', 'ব্যবহূত', 'কেব্লটি', 'ধরনের', 'ব্যাখ্যা', 'করো', 'নেটওয়ার্ক', 'সংযোগের', 'উদ্দীপকে', 'উল্লিখিত', 'ব্যবস্থাদ্বয়ের', 'কোনটি', 'উত্তম', 'বিশ্লেষণপূর্বক', 'মতামত', 'দাও', 'কমডেম', 'সংক্ষিপ্ত', 'রূপ', 'মডেম', 'ইলেকট্রনিক', 'ডিভাইস', 'অ্যানালগ', 'সংকেতকে', 'ডিজিটাল', 'ডিজিটাল', 'সংকেতকে', 'অ্যানালগ', 'সংকেতে', 'রূপান্তর', 'খফুল', 'ডুপ্লেক্স', 'মোডে', 'উভয়', 'ডেটা', 'আদান', 'প্রদান', 'ডেটা', 'ট্রান্সমিশন', 'মোডে', 'ডেটা', 'উত্স', 'গন্তব্যের', 'গন্তব্য', 'উেসর', 'প্রবাহিত', 'ফুল', 'ডুপ্লেক্স', 'মোড', 'অর্থাত্', 'পদ্ধতিতে', 'ডেটাপ্রবাহ', 'যুগোপযোগীভাবে', 'সম্পন্ন', 'মোবাইল', 'ফোন', 'টেলিফোন', 'গকরিম', 'সাহেবের', 'অফিসের', 'কেব্লটি', 'টুইস্টেড', 'পেয়ার', 'কেব্ল', 'পরিবাহী', 'তারকে', 'পরস্পর', 'পেঁচিয়ে', 'টুইস্টেড', 'পেয়ার', 'কেব্ল', 'তৈরি', 'প্যাঁচানো', 'দুটিকে', 'পৃথক', 'রাখার', 'মাঝে', 'অপরিবাহী', 'পদার্থ', 'অন্যান্য', 'কেবলের', 'তুলনায়', 'টুইস্টেড', 'পেয়ার', 'কেব্ল', 'অর্থসাশ্রয়ী', 'সহজে', 'স্থাপনযোগ্য', 'উদ্দীপকে', 'করিম', 'সাহেবের', 'অফিসের', 'কম্পিউটার', 'পরস্পরের', 'সংযোগের', 'কেব্ল', 'ব্যবহূত', 'অর্থসাশ্রয়ী', 'সহজে', 'স্থাপনযোগ্য', 'করিম', 'সাহেবের', 'অফিসের', 'কেব্লটি', 'টুইস্টেড', 'পেয়ার', 'কেব্ল', 'ঘনেটওয়ার্ক', 'সংযোগের', 'উদ্দীপকে', 'উল্লিখিত', 'ব্যবস্থা', 'রিং', 'টপোলজি', 'স্টার', 'টপোলজি', 'কম্পিউটার', 'নেটওয়ার্কে', 'কম্পিউটারের', 'অপর', 'কম্পিউটারের', 'সংযোগব্যবস্থাকেই', 'টপোলজি', 'সংগঠনে', 'কম্পিউটারগুলো', 'পরস্পর', 'যুক্ত', 'বৃত্তাকার', 'নেটওয়ার্ক', 'গড়ে', 'তোলে', 'রিং', 'টপোলজি', 'টপোলজিতে', 'কম্পিউটারের', 'সংযোগ', 'নষ্ট', 'কম্পিউটারেই', 'সংগঠনে', 'কেন্দ্রীয়', 'ডিভাইসের', 'অন্যান্য', 'কম্পিউটার', 'সংযুক্ত', 'স্টার', 'টপোলজি', 'উদ্দীপকে', 'মাসুদ', 'সাহেবের', 'অফিসে', 'সেদিন', 'কম্পিউটারই', 'করেনি', 'কম্পিউটারের', 'সংযোগ', 'নষ্ট', 'রিং', 'টপোলজি', 'অন্যদিকে', 'ভাই', 'করিম', 'সাহেবের', 'অফিসের', 'কম্পিউটার', 'কেন্দ্রীয়', 'ডিভাইসের', 'সংযুক্ত', 'স্টার', 'টপোলজি', 'উদ্দীপকের', 'রিং', 'স্টার', 'টপোলজির', 'স্টার', 'টপোলজি', 'উত্তম', 'রিং', 'টপোলজিতে', 'কম্পিউটার', 'কারণে', 'নষ্ট', 'অপসারণ', 'পুরো', 'নেটওয়ার্ক', 'অচল', 'পড়ে', 'স্টার', 'টপোলজিতে', 'কখনোই', 'মাস্টার', 'ট্রেইনারপ্রভাষক', 'রাউজান', 'কলেজ', 'চট্টগ্রাম']\n",
            "['স্পিন', 'স্পিন', 'স্পিন', 'লর্ডসে', 'ইয়াসির', 'শাহ্', 'লেগ', 'স্পিনে', 'জেরবার', 'দিনের', 'টেস্ট', 'হারের', 'ইংল্যান্ডের', 'ক্রিকেটাঙ্গনে', 'আলোচনা', 'স্পিন', 'নিয়েই', 'ইয়াসিরের', 'সাফল্যে', 'প্রভাবিত', 'ইংলিশরা', 'দ্বিতীয়', 'টেস্টের', 'দলে', 'নিয়েছে', 'লেগ', 'স্পিনার', 'আদিল', 'রশিদকে', 'ওল্ড', 'ট্রাফোর্ড', 'টেস্টের', 'পাকিস্তানের', 'সাবেক', 'স্পিনার', 'সাকলায়েন', 'মুশতাকেরও', 'শরণ', 'নিয়েছে', 'ইংল্যান্ড', 'পরামর্শক', 'কোচ', 'হিসেবে', 'খণ্ডকালীন', 'দায়িত্ব', 'পেয়েছেন', 'দুসরা', 'জনক', 'মঙ্গলবার', 'ইংলিশ', 'বোলারদের', 'সাকলায়েন', 'ছাত্র', 'মঈন', 'আলী', 'আদিল', 'রশিদকে', 'প্রশংসায়', 'ভাসিয়েছেন', 'টেস্ট', 'খেলা', 'সাকলায়েন', 'বিশ্বাস', 'এঁরাই', 'ইয়াসিরের', 'জবাব', 'বছর', 'ভারতের', 'বিপক্ষে', 'মঈনকে', 'দেখেছি', 'চমৎকার', 'করছিল', 'আমিরাতে', 'পাকিস্তানের', 'বিপক্ষে', 'আদিল', 'ভালো', 'উইকেট', 'নিয়েছিল', 'দুজনই', 'দক্ষ', 'তূণে', 'তিরেরও', 'অভাব', 'ইয়াসিরের', 'জবাব', 'চোট', 'কাটিয়ে', 'ইংল্যান্ড', 'দলে', 'ফেরা', 'অলরাউন্ডার', 'বেন', 'স্টোকস', 'সাকলায়েনের', 'ইংলিশ', 'ব্যাটসম্যানদেরও', 'শেখা', 'কপালের', 'জোরে', 'শিখে', 'নেওয়াটাই', 'বুদ্ধিমানের', 'ব্যাটসম্যানরা', 'টিপস', 'নিলে', 'বোকামি', 'স্টোকস', 'ঠিকই', 'বোলারদের', 'শিখলেই', 'ব্যাটসম্যানদেরও', 'সামলাতে', 'ইয়াসিরকে', 'এএফপি', 'ডেইলি', 'মেইল']\n",
            "['সিরিয়ার', 'পশ্চিমাঞ্চলে', 'গতকাল', 'রোববার', 'বিমান', 'হামলায়', 'কমপক্ষে', 'নিহত', 'দেড়', 'শতাধিক', 'মানুষ', 'আহত', 'রাশিয়ার', 'জঙ্গিবিমান', 'হামলা', 'চালিয়েছে', 'ধারণা', 'উদ্ধারকর্মী', 'স্থানীয়', 'লোকজন', 'স্থানীয়', 'লোকজন', 'জানান', 'পশ্চিমাঞ্চলে', 'বিদ্রোহীদের', 'নিয়ন্ত্রণে', 'ইদলিব', 'প্রদেশের', 'কেন্দ্রভাগের', 'বাজার', 'সরকারি', 'ভবন', 'আবাসিক', 'এলাকায়', 'গতকাল', 'ছয়', 'দফায়', 'বিমান', 'হামলা', 'চালানো', 'এরপর', 'মত্যু', 'আহত', 'দেড়', 'শতাধিক', 'মানুষ', 'গুরুতর', 'আহত', 'অনেককে', 'চিকিৎসার', 'তুরস্কের', 'হাসপাতালে', 'পাঠানো', 'ইয়াসির', 'হাম্মো', 'নামে', 'বেসামরিক', 'প্রতিরক্ষা', 'বিভাগের', 'কর্মী', 'এখনো', 'মৃতদেহ', 'ধ্বংসস্তূপের', 'নিচে', 'চাপা', 'পড়ে', 'রয়টার্স']\n",
            "['দক্ষিণ', 'আফ্রিকার', 'কেপটাউন', 'বিশ্ববিদ্যালয়ের', 'ইউসিটি', 'প্রাঙ্গণ', 'ঔপনিবেশিক', 'যুগের', 'খনি', 'ব্যবসায়ী', 'রাজনীতিক', 'সিসিল', 'রোডসের', 'মূর্তি', 'সরিয়ে', 'ফেলার', 'ভোট', 'সেখানকার', 'কাউন্সিল', 'শ্বেতাঙ্গদের', 'নিপীড়নের', 'প্রতীক', 'হিসেবে', 'পরিচিত', 'মূর্তিটির', 'বিরুদ্ধে', 'মাসব্যাপী', 'বিক্ষোভের', 'বিষয়টি', 'নিষ্পত্তির', 'বুধবার', 'ভোটের', 'আয়োজন', 'ব্রোঞ্জের', 'তৈরি', 'মূর্তিটি', 'অপসারণের', 'ইতিহাস', 'ঐতিহ্য', 'সংরক্ষণ', 'কর্তৃপক্ষের', 'ইউসিটির', 'বিবৃতি', 'মূর্তিটি', 'গতকাল', 'বৃহস্পতিবার', 'সরিয়ে', 'ফেলা', 'এএফপি']\n",
            "['সহজে', 'ডিজিটাল', 'আর্থিক', 'সেবা', 'অ্যাপ', 'ডিজিটাল', 'কেওয়াইসি', 'নিবন্ধন', 'প্রক্রিয়া', 'উদ্বোধন', 'ডিজিটাল', 'আর্থিক', 'সেবাদাতা', 'প্রতিষ্ঠান', 'নগদ', 'সহযোগিতা', 'বাংলাদেশ', 'ডাক', 'বিভাগ', 'গতকাল', 'রাজধানীর', 'ওয়েস্টিন', 'হোটেলে', 'অনুষ্ঠানে', 'নগদ', 'অ্যাপ', 'ডিজিটাল', 'কেওয়াইসি', 'উদ্বোধন', 'নগদ', 'কর্তৃপক্ষ', 'অনুষ্ঠানে', 'উপস্থিত', 'ডাক', 'টেলিযোগাযোগ', 'তথ্যপ্রযুক্তি', 'মন্ত্রী', 'মোস্তাফা', 'জব্বার', 'ডাক', 'টেলিযোগাযোগ', 'বিভাগের', 'ভারপ্রাপ্ত', 'সচিব', 'অশোক', 'কুমার', 'বিশ্বাস', 'বাংলাদেশ', 'ডাক', 'বিভাগের', 'মহাপরিচালক', 'সুশান্ত', 'কুমার', 'মণ্ডল', 'নগদের', 'ব্যবস্থাপনা', 'পরিচালক', 'তানভীর', 'মিশুক', 'সময়', 'বাংলাদেশ', 'ডাক', 'বিভাগ', 'নগদের', 'অন্যান্য', 'ঊর্ধ্বতন', 'কর্মকর্তাগণও', 'উপস্থিত', 'অনুষ্ঠানে', 'ডাক', 'টেলিযোগাযোগ', 'তথ্যপ্রযুক্তিমন্ত্রী', 'মোস্তাফা', 'জব্বার', 'দেশের', 'মানুষের', 'সুবিধার্থে', 'বাংলাদেশ', 'সরকার', 'স্বপ্রণোদিতভাবে', 'ধরনের', 'সেবা', 'আসছে', 'ধারাবাহিকতায়', 'এসেছে', 'বাংলাদেশ', 'ডাক', 'বিভাগের', 'সেবা', 'নগদ', 'মুক্তবাজার', 'অর্থনীতিতে', 'একচেটিয়া', 'ভেঙে', 'প্রতিযোগিতার', 'নগদ', 'সুশান্ত', 'কুমার', 'মণ্ডল', 'আর্থিক', 'লেনদেন', 'ব্যবস্থাপনার', 'একশ', 'বছরেরও', 'অভিজ্ঞতা', 'দেশজুড়ে', 'ডাক', 'বিভাগের', 'ডাকঘর', 'কর্মী', 'নেটওয়ার্কের', 'ডিজিটাল', 'আর্থিক', 'খাতে', 'দ্রুততা', 'কার্যকারিতার', 'যেকোনো', 'অনিয়ম', 'মোকাবিলায়', 'প্রস্তুত', 'ডিজিটাল', 'কেওয়াইসি', 'নিবন্ধন', 'প্রক্রিয়া', 'সম্পন্ন', 'ক্রেতাদের', 'জাতীয়', 'পরিচয়পত্র', 'নিবন্ধনকৃত', 'মোবাইল', 'ফোন', 'আসতে', 'গ্রাহকের', 'ছবি', 'পরিচয়পত্রের', 'তথ্য', 'কৃত্রিম', 'বুদ্ধিমত্তার', 'সহায়তায়', 'রিয়েল', 'টাইমে', 'নির্বাচন', 'কমিশনের', 'ডেটাবেইসের', 'মিলিয়ে', 'কেওয়াইসি', 'আবেদন', 'পত্রের', 'নির্দিষ্ট', 'স্বয়ংক্রিয়', 'স্ক্যানিং', 'প্রক্রিয়ায়', 'পরিচয়পত্রের', 'তথ্য', 'পূরণ', 'বর্তমানে', 'নগদ', 'অ্যাপটি', 'শুধুমাত্র', 'অ্যান্ড্রয়েড', 'প্ল্যাটফর্মে', 'মেগাবাইটের', 'সহজে', 'ব্যবহারযোগ্য', 'অ্যাপটির', 'বেটা', 'সংস্করণে', 'ব্যবহারকারী', 'হাজারেরও']\n",
            "['সাউথ', 'বাংলা', 'এগ্রিকালচার', 'অ্যান্ড', 'কমার্স', 'এসবিএসি', 'ব্যাংকের', 'তৃতীয়', 'বার্ষিক', 'সভা', 'এজিএম', 'রাজধানীর', 'হোটেলে', 'অনুষ্ঠিত', 'প্রধান', 'অতিথি', 'ব্যাংকের', 'পরিচালনা', 'পর্ষদের', 'চেয়ারম্যান', 'আমজাদ', 'হোসেন', 'সভায়', 'শেয়ারহোল্ডাররা', 'সমাপ্ত', 'বছরের', 'শতাংশ', 'স্টক', 'ডিভিডেন্ড', 'অনুমোদন', 'সময়', 'ব্যাংকের', 'পরিচালনা', 'পর্ষদের', 'সদস্যরা', 'উল্লেখযোগ্যসংখ্যক', 'শেয়ারহোল্ডার', 'উপস্থিত', 'অনুষ্ঠানে', 'স্বাগত', 'ব্যাংকের', 'ব্যবস্থাপনা', 'পরিচালক', 'সিইও', 'রফিকুল', 'ইসলাম', 'বিজ্ঞপ্তি']\n"
          ]
        }
      ]
    },
    {
      "cell_type": "code",
      "metadata": {
        "colab": {
          "background_save": true
        },
        "id": "z4VWHcArFjAn"
      },
      "source": [
        "embedding_dict={}\n",
        "with open('/content/bn_glove.39M.100d.txt','r') as f:\n",
        "    for line in f:\n",
        "        values=line.split()\n",
        "        word=values[0]\n",
        "        vectors=np.asarray(values[1:],'float32')\n",
        "        embedding_dict[word]=vectors\n",
        "f.close()"
      ],
      "execution_count": null,
      "outputs": []
    },
    {
      "cell_type": "code",
      "metadata": {
        "colab": {
          "background_save": true
        },
        "id": "5BAE7gIKGUTa"
      },
      "source": [
        "MAX_LEN=50\n",
        "tokenizer_obj=Tokenizer()\n",
        "tokenizer_obj.fit_on_texts(corpus)\n",
        "sequences=tokenizer_obj.texts_to_sequences(corpus)\n",
        "\n",
        "train_pad=pad_sequences(sequences,maxlen=MAX_LEN,truncating='post',padding='post')"
      ],
      "execution_count": null,
      "outputs": []
    },
    {
      "cell_type": "code",
      "metadata": {
        "colab": {
          "background_save": true
        },
        "id": "D_-JIvCVH9xi"
      },
      "source": [
        "trainer=train_pad[:train.shape[0]]\n",
        "\n",
        "test=train_pad[train.shape[0]:]\n",
        "\n",
        "labels_train = labels[:train.shape[0]]\n",
        "lables_test = labels[train.shape[0]:]"
      ],
      "execution_count": null,
      "outputs": []
    },
    {
      "cell_type": "code",
      "metadata": {
        "colab": {
          "background_save": true
        },
        "id": "RGZ7ydKCHo_f",
        "outputId": "39db96d4-4e22-4800-fc3d-92cde6bb541c"
      },
      "source": [
        "word_index=tokenizer_obj.word_index\n",
        "print('Number of unique words:',len(word_index))"
      ],
      "execution_count": null,
      "outputs": [
        {
          "name": "stdout",
          "output_type": "stream",
          "text": [
            "Number of unique words: 677924\n"
          ]
        }
      ]
    },
    {
      "cell_type": "code",
      "metadata": {
        "colab": {
          "background_save": true
        },
        "id": "yxCB_nF5HiBh",
        "outputId": "223fcdc6-9e6b-4ab7-8e1d-8b1f1d2208d3"
      },
      "source": [
        "num_words=len(word_index)+1\n",
        "embedding_matrix=np.zeros((num_words,100))\n",
        "\n",
        "for word,i in tqdm(word_index.items()):\n",
        "    if i > num_words:\n",
        "        continue\n",
        "    \n",
        "    emb_vec=embedding_dict.get(word)\n",
        "    if emb_vec is not None:\n",
        "        embedding_matrix[i]=emb_vec"
      ],
      "execution_count": null,
      "outputs": [
        {
          "name": "stderr",
          "output_type": "stream",
          "text": [
            "100%|██████████| 677924/677924 [00:00<00:00, 841047.27it/s]\n"
          ]
        }
      ]
    },
    {
      "cell_type": "markdown",
      "metadata": {
        "id": "_QcDHcRe0QYu"
      },
      "source": [
        "## Tpu Stretigy Define"
      ]
    },
    {
      "cell_type": "code",
      "metadata": {
        "colab": {
          "background_save": true
        },
        "id": "hooyiIuy1p8x",
        "outputId": "39e70bcf-1507-4641-f539-b5deb2e4e5e7"
      },
      "source": [
        "## TPU Stretigy \n",
        "\n",
        "tpu = tf.distribute.cluster_resolver.TPUClusterResolver()\n",
        "tf.config.experimental_connect_to_cluster(tpu)\n",
        "tf.tpu.experimental.initialize_tpu_system(tpu)\n",
        "strategy = tf.distribute.experimental.TPUStrategy(tpu)\n"
      ],
      "execution_count": null,
      "outputs": [
        {
          "name": "stdout",
          "output_type": "stream",
          "text": [
            "INFO:tensorflow:Clearing out eager caches\n"
          ]
        },
        {
          "name": "stderr",
          "output_type": "stream",
          "text": [
            "INFO:tensorflow:Clearing out eager caches\n"
          ]
        },
        {
          "name": "stdout",
          "output_type": "stream",
          "text": [
            "INFO:tensorflow:Initializing the TPU system: grpc://10.89.45.210:8470\n"
          ]
        },
        {
          "name": "stderr",
          "output_type": "stream",
          "text": [
            "INFO:tensorflow:Initializing the TPU system: grpc://10.89.45.210:8470\n"
          ]
        },
        {
          "name": "stdout",
          "output_type": "stream",
          "text": [
            "INFO:tensorflow:Finished initializing TPU system.\n"
          ]
        },
        {
          "name": "stderr",
          "output_type": "stream",
          "text": [
            "INFO:tensorflow:Finished initializing TPU system.\n",
            "WARNING:absl:`tf.distribute.experimental.TPUStrategy` is deprecated, please use  the non experimental symbol `tf.distribute.TPUStrategy` instead.\n"
          ]
        },
        {
          "name": "stdout",
          "output_type": "stream",
          "text": [
            "INFO:tensorflow:Found TPU system:\n"
          ]
        },
        {
          "name": "stderr",
          "output_type": "stream",
          "text": [
            "INFO:tensorflow:Found TPU system:\n"
          ]
        },
        {
          "name": "stdout",
          "output_type": "stream",
          "text": [
            "INFO:tensorflow:*** Num TPU Cores: 8\n"
          ]
        },
        {
          "name": "stderr",
          "output_type": "stream",
          "text": [
            "INFO:tensorflow:*** Num TPU Cores: 8\n"
          ]
        },
        {
          "name": "stdout",
          "output_type": "stream",
          "text": [
            "INFO:tensorflow:*** Num TPU Workers: 1\n"
          ]
        },
        {
          "name": "stderr",
          "output_type": "stream",
          "text": [
            "INFO:tensorflow:*** Num TPU Workers: 1\n"
          ]
        },
        {
          "name": "stdout",
          "output_type": "stream",
          "text": [
            "INFO:tensorflow:*** Num TPU Cores Per Worker: 8\n"
          ]
        },
        {
          "name": "stderr",
          "output_type": "stream",
          "text": [
            "INFO:tensorflow:*** Num TPU Cores Per Worker: 8\n"
          ]
        },
        {
          "name": "stdout",
          "output_type": "stream",
          "text": [
            "INFO:tensorflow:*** Available Device: _DeviceAttributes(/job:localhost/replica:0/task:0/device:CPU:0, CPU, 0, 0)\n"
          ]
        },
        {
          "name": "stderr",
          "output_type": "stream",
          "text": [
            "INFO:tensorflow:*** Available Device: _DeviceAttributes(/job:localhost/replica:0/task:0/device:CPU:0, CPU, 0, 0)\n"
          ]
        },
        {
          "name": "stdout",
          "output_type": "stream",
          "text": [
            "INFO:tensorflow:*** Available Device: _DeviceAttributes(/job:worker/replica:0/task:0/device:CPU:0, CPU, 0, 0)\n"
          ]
        },
        {
          "name": "stderr",
          "output_type": "stream",
          "text": [
            "INFO:tensorflow:*** Available Device: _DeviceAttributes(/job:worker/replica:0/task:0/device:CPU:0, CPU, 0, 0)\n"
          ]
        },
        {
          "name": "stdout",
          "output_type": "stream",
          "text": [
            "INFO:tensorflow:*** Available Device: _DeviceAttributes(/job:worker/replica:0/task:0/device:TPU:0, TPU, 0, 0)\n"
          ]
        },
        {
          "name": "stderr",
          "output_type": "stream",
          "text": [
            "INFO:tensorflow:*** Available Device: _DeviceAttributes(/job:worker/replica:0/task:0/device:TPU:0, TPU, 0, 0)\n"
          ]
        },
        {
          "name": "stdout",
          "output_type": "stream",
          "text": [
            "INFO:tensorflow:*** Available Device: _DeviceAttributes(/job:worker/replica:0/task:0/device:TPU:1, TPU, 0, 0)\n"
          ]
        },
        {
          "name": "stderr",
          "output_type": "stream",
          "text": [
            "INFO:tensorflow:*** Available Device: _DeviceAttributes(/job:worker/replica:0/task:0/device:TPU:1, TPU, 0, 0)\n"
          ]
        },
        {
          "name": "stdout",
          "output_type": "stream",
          "text": [
            "INFO:tensorflow:*** Available Device: _DeviceAttributes(/job:worker/replica:0/task:0/device:TPU:2, TPU, 0, 0)\n"
          ]
        },
        {
          "name": "stderr",
          "output_type": "stream",
          "text": [
            "INFO:tensorflow:*** Available Device: _DeviceAttributes(/job:worker/replica:0/task:0/device:TPU:2, TPU, 0, 0)\n"
          ]
        },
        {
          "name": "stdout",
          "output_type": "stream",
          "text": [
            "INFO:tensorflow:*** Available Device: _DeviceAttributes(/job:worker/replica:0/task:0/device:TPU:3, TPU, 0, 0)\n"
          ]
        },
        {
          "name": "stderr",
          "output_type": "stream",
          "text": [
            "INFO:tensorflow:*** Available Device: _DeviceAttributes(/job:worker/replica:0/task:0/device:TPU:3, TPU, 0, 0)\n"
          ]
        },
        {
          "name": "stdout",
          "output_type": "stream",
          "text": [
            "INFO:tensorflow:*** Available Device: _DeviceAttributes(/job:worker/replica:0/task:0/device:TPU:4, TPU, 0, 0)\n"
          ]
        },
        {
          "name": "stderr",
          "output_type": "stream",
          "text": [
            "INFO:tensorflow:*** Available Device: _DeviceAttributes(/job:worker/replica:0/task:0/device:TPU:4, TPU, 0, 0)\n"
          ]
        },
        {
          "name": "stdout",
          "output_type": "stream",
          "text": [
            "INFO:tensorflow:*** Available Device: _DeviceAttributes(/job:worker/replica:0/task:0/device:TPU:5, TPU, 0, 0)\n"
          ]
        },
        {
          "name": "stderr",
          "output_type": "stream",
          "text": [
            "INFO:tensorflow:*** Available Device: _DeviceAttributes(/job:worker/replica:0/task:0/device:TPU:5, TPU, 0, 0)\n"
          ]
        },
        {
          "name": "stdout",
          "output_type": "stream",
          "text": [
            "INFO:tensorflow:*** Available Device: _DeviceAttributes(/job:worker/replica:0/task:0/device:TPU:6, TPU, 0, 0)\n"
          ]
        },
        {
          "name": "stderr",
          "output_type": "stream",
          "text": [
            "INFO:tensorflow:*** Available Device: _DeviceAttributes(/job:worker/replica:0/task:0/device:TPU:6, TPU, 0, 0)\n"
          ]
        },
        {
          "name": "stdout",
          "output_type": "stream",
          "text": [
            "INFO:tensorflow:*** Available Device: _DeviceAttributes(/job:worker/replica:0/task:0/device:TPU:7, TPU, 0, 0)\n"
          ]
        },
        {
          "name": "stderr",
          "output_type": "stream",
          "text": [
            "INFO:tensorflow:*** Available Device: _DeviceAttributes(/job:worker/replica:0/task:0/device:TPU:7, TPU, 0, 0)\n"
          ]
        },
        {
          "name": "stdout",
          "output_type": "stream",
          "text": [
            "INFO:tensorflow:*** Available Device: _DeviceAttributes(/job:worker/replica:0/task:0/device:TPU_SYSTEM:0, TPU_SYSTEM, 0, 0)\n"
          ]
        },
        {
          "name": "stderr",
          "output_type": "stream",
          "text": [
            "INFO:tensorflow:*** Available Device: _DeviceAttributes(/job:worker/replica:0/task:0/device:TPU_SYSTEM:0, TPU_SYSTEM, 0, 0)\n"
          ]
        },
        {
          "name": "stdout",
          "output_type": "stream",
          "text": [
            "INFO:tensorflow:*** Available Device: _DeviceAttributes(/job:worker/replica:0/task:0/device:XLA_CPU:0, XLA_CPU, 0, 0)\n"
          ]
        },
        {
          "name": "stderr",
          "output_type": "stream",
          "text": [
            "INFO:tensorflow:*** Available Device: _DeviceAttributes(/job:worker/replica:0/task:0/device:XLA_CPU:0, XLA_CPU, 0, 0)\n"
          ]
        }
      ]
    },
    {
      "cell_type": "markdown",
      "metadata": {
        "id": "byf65GK6Hxyp"
      },
      "source": [
        "## Model Define"
      ]
    },
    {
      "cell_type": "code",
      "metadata": {
        "colab": {
          "background_save": true
        },
        "id": "e07xmzSzHwZi"
      },
      "source": [
        "K.clear_session()\n",
        "with strategy.scope():\n",
        "  \n",
        "  model=Sequential()\n",
        "\n",
        "  embedding=Embedding(num_words,100,embeddings_initializer=Constant(embedding_matrix),\n",
        "                    input_length=MAX_LEN,trainable=False)\n",
        "\n",
        "  model.add(embedding)\n",
        "  model.add(SpatialDropout1D(0.2))\n",
        "  model.add(LSTM(64, dropout=0.2, recurrent_dropout=0.2))\n",
        "  model.add(Dense(7))\n",
        "\n",
        "  def recall_m(y_true, y_pred):\n",
        "    true_positives = K.sum(K.round(K.clip(y_true * y_pred, 0, 1)))\n",
        "    possible_positives = K.sum(K.round(K.clip(y_true, 0, 1)))\n",
        "    recall = true_positives / (possible_positives + K.epsilon())\n",
        "    return recall\n",
        "\n",
        "  def precision_m(y_true, y_pred):\n",
        "    true_positives = K.sum(K.round(K.clip(y_true * y_pred, 0, 1)))\n",
        "    predicted_positives = K.sum(K.round(K.clip(y_pred, 0, 1)))\n",
        "    precision = true_positives / (predicted_positives + K.epsilon())\n",
        "    return precision\n",
        "  \n",
        "  def f1_m(y_true, y_pred):\n",
        "    precision = precision_m(y_true, y_pred)\n",
        "    recall = recall_m(y_true, y_pred)\n",
        "    return 2*((precision*recall)/(precision+recall+K.epsilon()))\n",
        "  \n",
        "\n",
        "  optimzer=Adam(learning_rate=1e-5)\n",
        "\n",
        "  model.compile(loss='sparse_categorical_crossentropy',optimizer=optimzer,metrics=['accuracy',recall_m,precision_m,f1_m])"
      ],
      "execution_count": null,
      "outputs": []
    },
    {
      "cell_type": "code",
      "metadata": {
        "colab": {
          "background_save": true
        },
        "id": "IqBszEb0H9E4",
        "outputId": "e13c4b49-489e-4b91-a5d0-b0a622736e70"
      },
      "source": [
        "model.summary()"
      ],
      "execution_count": null,
      "outputs": [
        {
          "name": "stdout",
          "output_type": "stream",
          "text": [
            "Model: \"sequential\"\n",
            "_________________________________________________________________\n",
            "Layer (type)                 Output Shape              Param #   \n",
            "=================================================================\n",
            "embedding (Embedding)        (None, 50, 100)           67792500  \n",
            "_________________________________________________________________\n",
            "spatial_dropout1d (SpatialDr (None, 50, 100)           0         \n",
            "_________________________________________________________________\n",
            "lstm (LSTM)                  (None, 64)                42240     \n",
            "_________________________________________________________________\n",
            "dense (Dense)                (None, 7)                 455       \n",
            "=================================================================\n",
            "Total params: 67,835,195\n",
            "Trainable params: 42,695\n",
            "Non-trainable params: 67,792,500\n",
            "_________________________________________________________________\n"
          ]
        }
      ]
    },
    {
      "cell_type": "code",
      "metadata": {
        "colab": {
          "background_save": true
        },
        "id": "R3GWpN9mW7re",
        "outputId": "17c09eb5-b9f4-4798-b2e0-ae9fa1b647c1"
      },
      "source": [
        "X_train,X_test,y_train,y_test=train_test_split(trainer,labels_train,test_size=0.15)\n",
        "print('Shape of train',X_train.shape)\n",
        "print(\"Shape of Validation \",X_test.shape)"
      ],
      "execution_count": null,
      "outputs": [
        {
          "name": "stdout",
          "output_type": "stream",
          "text": [
            "Shape of train (84050, 50)\n",
            "Shape of Validation  (14833, 50)\n"
          ]
        }
      ]
    },
    {
      "cell_type": "code",
      "metadata": {
        "colab": {
          "base_uri": "https://localhost:8080/"
        },
        "id": "YF4twvrLu5rm",
        "outputId": "db47f0f5-3958-458b-bdf9-bc57e67f0742"
      },
      "source": [
        "from google.colab import drive\n",
        "drive.mount('/content/drive') ## Mount Google Drive"
      ],
      "execution_count": null,
      "outputs": [
        {
          "output_type": "stream",
          "name": "stdout",
          "text": [
            "Mounted at /content/drive\n"
          ]
        }
      ]
    },
    {
      "cell_type": "code",
      "metadata": {
        "colab": {
          "background_save": true
        },
        "id": "hts6FcF5XJIA"
      },
      "source": [
        "# checkpoint = keras.callbacks.ModelCheckpoint('/content/drive/MyDrive/Callbacks Glove Model Ep 39 - 59/model39_59.h5', monitor=\"val_loss\", save_best_only=True)\n",
        "# checkpoint1 = tf.keras.callbacks.CSVLogger('/content/drive/MyDrive/Callbacks Glove Model Ep 39 - 59/History39_59.csv')\n",
        "# history = model.fit(\n",
        "#                   X_train,y_train,\n",
        "#                   batch_size=16,\n",
        "#                   epochs=20,\n",
        "#                   callbacks=[checkpoint, checkpoint1],\n",
        "#                   validation_data=(X_test,y_test)\n",
        "# )"
      ],
      "execution_count": null,
      "outputs": []
    },
    {
      "cell_type": "code",
      "metadata": {
        "colab": {
          "base_uri": "https://localhost:8080/",
          "height": 1000
        },
        "id": "bVHHH8obRbgv",
        "outputId": "c98ba067-3c3f-471f-e605-920b9603c05b"
      },
      "source": [
        "## Load and Train Again\n",
        "\n",
        "model.load_weights(\"/content/drive/MyDrive/Callbacks Glove Model Ep 21 - 80/model21_80.h5\")\n",
        "\n",
        "checkpoint = keras.callbacks.ModelCheckpoint('/content/drive/MyDrive/Callbacks Glove Model Ep 81 - further/model81_further.h5', monitor=\"val_loss\", save_best_only=True)\n",
        "checkpoint1 = tf.keras.callbacks.CSVLogger('/content/drive/MyDrive/Callbacks Glove Model Ep 81 - further/History81_further.csv')\n",
        "\n",
        "\n",
        "import gc\n",
        "# Custom Callback To Include in Callbacks List At Training Time\n",
        "class GarbageCollectorCallback(tf.keras.callbacks.Callback):\n",
        "    def on_epoch_end(self, epoch, logs=None):\n",
        "        gc.collect()\n",
        "\n",
        "\n",
        "history = model.fit(\n",
        "                  X_train,y_train,\n",
        "                  batch_size=16,\n",
        "                  epochs=60,\n",
        "                  callbacks=[checkpoint, checkpoint1, GarbageCollectorCallback()],\n",
        "                  validation_data=(X_test,y_test),\n",
        "\n",
        ")"
      ],
      "execution_count": null,
      "outputs": [
        {
          "metadata": {
            "tags": null
          },
          "name": "stdout",
          "output_type": "stream",
          "text": [
            "Epoch 1/60\n",
            "   4/5254 [..............................] - ETA: 2:10 - loss: 1.0156 - accuracy: 0.8125 - recall_m: 1.7812 - precision_m: 1.3255 - f1_m: 1.4813WARNING:tensorflow:Callback method `on_train_batch_end` is slow compared to the batch time (batch time: 0.0020s vs `on_train_batch_end` time: 0.0288s). Check your callbacks.\n"
          ]
        },
        {
          "metadata": {
            "tags": null
          },
          "name": "stderr",
          "output_type": "stream",
          "text": [
            "WARNING:tensorflow:Callback method `on_train_batch_end` is slow compared to the batch time (batch time: 0.0020s vs `on_train_batch_end` time: 0.0288s). Check your callbacks.\n"
          ]
        },
        {
          "output_type": "stream",
          "name": "stdout",
          "text": [
            "5254/5254 [==============================] - 128s 24ms/step - loss: 0.8318 - accuracy: 0.8122 - recall_m: 1.7323 - precision_m: 3569.9480 - f1_m: 1.4186 - val_loss: 0.6730 - val_accuracy: 0.8468 - val_recall_m: 1.5981 - val_precision_m: 1.1726 - val_f1_m: 1.3025\n",
            "Epoch 2/60\n",
            "5254/5254 [==============================] - 132s 25ms/step - loss: 0.8343 - accuracy: 0.8136 - recall_m: 1.7514 - precision_m: 6662.7700 - f1_m: 1.4280 - val_loss: 0.6686 - val_accuracy: 0.8422 - val_recall_m: 1.6453 - val_precision_m: 1.1946 - val_f1_m: 1.3321\n",
            "Epoch 3/60\n",
            "5254/5254 [==============================] - 132s 25ms/step - loss: 0.8332 - accuracy: 0.8122 - recall_m: 1.7612 - precision_m: 9041.7383 - f1_m: 1.4367 - val_loss: 0.6666 - val_accuracy: 0.8436 - val_recall_m: 1.6340 - val_precision_m: 1.1922 - val_f1_m: 1.3280\n",
            "Epoch 4/60\n",
            "5254/5254 [==============================] - 133s 25ms/step - loss: 0.8135 - accuracy: 0.8140 - recall_m: 1.7373 - precision_m: 2856.2319 - f1_m: 1.4239 - val_loss: 0.6665 - val_accuracy: 0.8466 - val_recall_m: 1.5837 - val_precision_m: 1.1719 - val_f1_m: 1.2989\n",
            "Epoch 5/60\n",
            "5254/5254 [==============================] - 133s 25ms/step - loss: 0.8275 - accuracy: 0.8140 - recall_m: 1.7131 - precision_m: 7852.5908 - f1_m: 1.4067 - val_loss: 0.6664 - val_accuracy: 0.8488 - val_recall_m: 1.5709 - val_precision_m: 1.1579 - val_f1_m: 1.2839\n",
            "Epoch 6/60\n",
            "5254/5254 [==============================] - 132s 25ms/step - loss: 0.8255 - accuracy: 0.8172 - recall_m: 1.7035 - precision_m: 7614.2612 - f1_m: 1.3966 - val_loss: 0.6725 - val_accuracy: 0.8470 - val_recall_m: 1.5962 - val_precision_m: 1.1701 - val_f1_m: 1.3015\n",
            "Epoch 7/60\n",
            "5254/5254 [==============================] - 129s 25ms/step - loss: 0.8099 - accuracy: 0.8182 - recall_m: 1.6966 - precision_m: 13086.3096 - f1_m: 1.3965 - val_loss: 0.6661 - val_accuracy: 0.8472 - val_recall_m: 1.5451 - val_precision_m: 1.1485 - val_f1_m: 1.2705\n",
            "Epoch 8/60\n",
            "5254/5254 [==============================] - 132s 25ms/step - loss: 0.8249 - accuracy: 0.8193 - recall_m: 1.6638 - precision_m: 8089.5439 - f1_m: 1.3755 - val_loss: 0.6719 - val_accuracy: 0.8504 - val_recall_m: 1.5240 - val_precision_m: 1.1399 - val_f1_m: 1.2584\n",
            "Epoch 9/60\n",
            "5254/5254 [==============================] - 128s 24ms/step - loss: 0.8183 - accuracy: 0.8193 - recall_m: 1.6423 - precision_m: 7138.3018 - f1_m: 1.3641 - val_loss: 0.6630 - val_accuracy: 0.8514 - val_recall_m: 1.5200 - val_precision_m: 1.1407 - val_f1_m: 1.2582\n",
            "Epoch 10/60\n",
            "5254/5254 [==============================] - 132s 25ms/step - loss: 0.8232 - accuracy: 0.8199 - recall_m: 1.6479 - precision_m: 11658.4551 - f1_m: 1.3644 - val_loss: 0.6607 - val_accuracy: 0.8518 - val_recall_m: 1.5140 - val_precision_m: 1.1306 - val_f1_m: 1.2492\n",
            "Epoch 11/60\n",
            "5254/5254 [==============================] - 133s 25ms/step - loss: 0.8158 - accuracy: 0.8213 - recall_m: 1.6302 - precision_m: 11896.5430 - f1_m: 1.3539 - val_loss: 0.6759 - val_accuracy: 0.8525 - val_recall_m: 1.4928 - val_precision_m: 1.1246 - val_f1_m: 1.2388\n",
            "Epoch 12/60\n",
            "5254/5254 [==============================] - 129s 25ms/step - loss: 0.8110 - accuracy: 0.8230 - recall_m: 1.6185 - precision_m: 5235.5210 - f1_m: 1.3481 - val_loss: 0.6653 - val_accuracy: 0.8524 - val_recall_m: 1.4968 - val_precision_m: 1.1194 - val_f1_m: 1.2368\n",
            "Epoch 13/60\n",
            "5254/5254 [==============================] - 129s 24ms/step - loss: 0.8046 - accuracy: 0.8233 - recall_m: 1.6189 - precision_m: 4997.5366 - f1_m: 1.3418 - val_loss: 0.6561 - val_accuracy: 0.8524 - val_recall_m: 1.4964 - val_precision_m: 1.1205 - val_f1_m: 1.2377\n",
            "Epoch 14/60\n",
            "5254/5254 [==============================] - 132s 25ms/step - loss: 0.8049 - accuracy: 0.8251 - recall_m: 1.6101 - precision_m: 2618.2302 - f1_m: 1.3406 - val_loss: 0.6463 - val_accuracy: 0.8519 - val_recall_m: 1.5081 - val_precision_m: 1.1272 - val_f1_m: 1.2456\n",
            "Epoch 15/60\n",
            "5254/5254 [==============================] - 133s 25ms/step - loss: 0.7970 - accuracy: 0.8249 - recall_m: 1.6277 - precision_m: 7852.1914 - f1_m: 1.3487 - val_loss: 0.6560 - val_accuracy: 0.8560 - val_recall_m: 1.4784 - val_precision_m: 1.1153 - val_f1_m: 1.2279\n",
            "Epoch 16/60\n",
            "5254/5254 [==============================] - 129s 25ms/step - loss: 0.8007 - accuracy: 0.8273 - recall_m: 1.6025 - precision_m: 2618.1787 - f1_m: 1.3352 - val_loss: 0.6528 - val_accuracy: 0.8571 - val_recall_m: 1.4836 - val_precision_m: 1.1147 - val_f1_m: 1.2301\n",
            "Epoch 17/60\n",
            "5254/5254 [==============================] - 130s 25ms/step - loss: 0.7901 - accuracy: 0.8270 - recall_m: 1.6270 - precision_m: 1904.5061 - f1_m: 1.3462 - val_loss: 0.6465 - val_accuracy: 0.8546 - val_recall_m: 1.5129 - val_precision_m: 1.1298 - val_f1_m: 1.2498\n",
            "Epoch 18/60\n",
            "5254/5254 [==============================] - 129s 25ms/step - loss: 0.7792 - accuracy: 0.8267 - recall_m: 1.6481 - precision_m: 3332.2397 - f1_m: 1.3610 - val_loss: 0.6505 - val_accuracy: 0.8575 - val_recall_m: 1.5046 - val_precision_m: 1.1243 - val_f1_m: 1.2433\n",
            "Epoch 19/60\n",
            "5254/5254 [==============================] - 129s 25ms/step - loss: 0.7749 - accuracy: 0.8276 - recall_m: 1.6305 - precision_m: 6900.5840 - f1_m: 1.3484 - val_loss: 0.6400 - val_accuracy: 0.8572 - val_recall_m: 1.5056 - val_precision_m: 1.1248 - val_f1_m: 1.2437\n",
            "Epoch 20/60\n",
            "5254/5254 [==============================] - 132s 25ms/step - loss: 0.7758 - accuracy: 0.8277 - recall_m: 1.6260 - precision_m: 1428.7024 - f1_m: 1.3445 - val_loss: 0.6459 - val_accuracy: 0.8592 - val_recall_m: 1.4908 - val_precision_m: 1.1179 - val_f1_m: 1.2355\n",
            "Epoch 21/60\n",
            "5254/5254 [==============================] - 129s 24ms/step - loss: 0.7738 - accuracy: 0.8298 - recall_m: 1.6248 - precision_m: 1904.5234 - f1_m: 1.3436 - val_loss: 0.6329 - val_accuracy: 0.8569 - val_recall_m: 1.5103 - val_precision_m: 1.1233 - val_f1_m: 1.2450\n",
            "Epoch 22/60\n",
            "5254/5254 [==============================] - 133s 25ms/step - loss: 0.7542 - accuracy: 0.8300 - recall_m: 1.6240 - precision_m: 6425.1655 - f1_m: 1.3435 - val_loss: 0.6372 - val_accuracy: 0.8572 - val_recall_m: 1.4725 - val_precision_m: 1.1111 - val_f1_m: 1.2254\n",
            "Epoch 23/60\n",
            "5254/5254 [==============================] - 129s 25ms/step - loss: 0.7759 - accuracy: 0.8309 - recall_m: 1.5914 - precision_m: 3808.0278 - f1_m: 1.3258 - val_loss: 0.6461 - val_accuracy: 0.8590 - val_recall_m: 1.4533 - val_precision_m: 1.0995 - val_f1_m: 1.2106\n",
            "Epoch 24/60\n",
            "5254/5254 [==============================] - 128s 24ms/step - loss: 0.7603 - accuracy: 0.8315 - recall_m: 1.6000 - precision_m: 4521.6836 - f1_m: 1.3276 - val_loss: 0.6282 - val_accuracy: 0.8598 - val_recall_m: 1.4815 - val_precision_m: 1.1055 - val_f1_m: 1.2243\n",
            "Epoch 25/60\n",
            "5254/5254 [==============================] - 133s 25ms/step - loss: 0.7564 - accuracy: 0.8327 - recall_m: 1.6055 - precision_m: 5473.3584 - f1_m: 1.3350 - val_loss: 0.6276 - val_accuracy: 0.8632 - val_recall_m: 1.4766 - val_precision_m: 1.1169 - val_f1_m: 1.2296\n",
            "Epoch 26/60\n",
            "5254/5254 [==============================] - 132s 25ms/step - loss: 0.7696 - accuracy: 0.8333 - recall_m: 1.5884 - precision_m: 1.2097 - f1_m: 1.3255 - val_loss: 0.6268 - val_accuracy: 0.8629 - val_recall_m: 1.4637 - val_precision_m: 1.1119 - val_f1_m: 1.2226\n",
            "Epoch 27/60\n",
            "5254/5254 [==============================] - 132s 25ms/step - loss: 0.7502 - accuracy: 0.8341 - recall_m: 1.6132 - precision_m: 4997.5947 - f1_m: 1.3436 - val_loss: 0.6194 - val_accuracy: 0.8608 - val_recall_m: 1.4830 - val_precision_m: 1.1186 - val_f1_m: 1.2345\n",
            "Epoch 28/60\n",
            "5254/5254 [==============================] - 132s 25ms/step - loss: 0.7455 - accuracy: 0.8318 - recall_m: 1.6094 - precision_m: 6187.2109 - f1_m: 1.3432 - val_loss: 0.6230 - val_accuracy: 0.8613 - val_recall_m: 1.4842 - val_precision_m: 1.1190 - val_f1_m: 1.2345\n",
            "Epoch 29/60\n",
            "5254/5254 [==============================] - 129s 25ms/step - loss: 0.7394 - accuracy: 0.8350 - recall_m: 1.6171 - precision_m: 2618.2219 - f1_m: 1.3432 - val_loss: 0.6171 - val_accuracy: 0.8616 - val_recall_m: 1.4877 - val_precision_m: 1.1192 - val_f1_m: 1.2361\n",
            "Epoch 30/60\n",
            "5254/5254 [==============================] - 132s 25ms/step - loss: 0.7385 - accuracy: 0.8350 - recall_m: 1.5952 - precision_m: 10469.1221 - f1_m: 1.3274 - val_loss: 0.6206 - val_accuracy: 0.8622 - val_recall_m: 1.4629 - val_precision_m: 1.1075 - val_f1_m: 1.2207\n",
            "Epoch 31/60\n",
            "5254/5254 [==============================] - 129s 25ms/step - loss: 0.7501 - accuracy: 0.8350 - recall_m: 1.5714 - precision_m: 4045.7625 - f1_m: 1.3152 - val_loss: 0.6335 - val_accuracy: 0.8621 - val_recall_m: 1.4682 - val_precision_m: 1.1082 - val_f1_m: 1.2219\n",
            "Epoch 32/60\n",
            "5254/5254 [==============================] - 128s 24ms/step - loss: 0.7303 - accuracy: 0.8358 - recall_m: 1.6059 - precision_m: 4997.3950 - f1_m: 1.3301 - val_loss: 0.6198 - val_accuracy: 0.8620 - val_recall_m: 1.4804 - val_precision_m: 1.1129 - val_f1_m: 1.2293\n",
            "Epoch 33/60\n",
            "5254/5254 [==============================] - 128s 24ms/step - loss: 0.7269 - accuracy: 0.8352 - recall_m: 1.6134 - precision_m: 2856.0706 - f1_m: 1.3343 - val_loss: 0.5976 - val_accuracy: 0.8621 - val_recall_m: 1.4976 - val_precision_m: 1.1211 - val_f1_m: 1.2403\n",
            "Epoch 34/60\n",
            "5254/5254 [==============================] - 132s 25ms/step - loss: 0.7226 - accuracy: 0.8350 - recall_m: 1.6173 - precision_m: 1428.6920 - f1_m: 1.3354 - val_loss: 0.6008 - val_accuracy: 0.8631 - val_recall_m: 1.4972 - val_precision_m: 1.1121 - val_f1_m: 1.2346\n",
            "Epoch 35/60\n",
            "5254/5254 [==============================] - 128s 24ms/step - loss: 0.7274 - accuracy: 0.8370 - recall_m: 1.6051 - precision_m: 5473.4277 - f1_m: 1.3259 - val_loss: 0.6038 - val_accuracy: 0.8611 - val_recall_m: 1.5018 - val_precision_m: 1.1221 - val_f1_m: 1.2421\n",
            "Epoch 36/60\n",
            "5254/5254 [==============================] - 129s 25ms/step - loss: 0.7221 - accuracy: 0.8365 - recall_m: 1.6137 - precision_m: 477.0367 - f1_m: 1.3338 - val_loss: 0.5981 - val_accuracy: 0.8619 - val_recall_m: 1.4956 - val_precision_m: 1.1240 - val_f1_m: 1.2422\n",
            "Epoch 37/60\n",
            "5254/5254 [==============================] - 128s 24ms/step - loss: 0.7222 - accuracy: 0.8378 - recall_m: 1.6013 - precision_m: 2618.1841 - f1_m: 1.3287 - val_loss: 0.6111 - val_accuracy: 0.8583 - val_recall_m: 1.4830 - val_precision_m: 1.1167 - val_f1_m: 1.2331\n",
            "Epoch 38/60\n",
            "5254/5254 [==============================] - 129s 24ms/step - loss: 0.7108 - accuracy: 0.8365 - recall_m: 1.5949 - precision_m: 3807.8977 - f1_m: 1.3224 - val_loss: 0.6078 - val_accuracy: 0.8633 - val_recall_m: 1.4647 - val_precision_m: 1.1027 - val_f1_m: 1.2183\n",
            "Epoch 39/60\n",
            "5254/5254 [==============================] - 128s 24ms/step - loss: 0.7329 - accuracy: 0.8371 - recall_m: 1.5662 - precision_m: 1666.5012 - f1_m: 1.3037 - val_loss: 0.6063 - val_accuracy: 0.8640 - val_recall_m: 1.4573 - val_precision_m: 1.1015 - val_f1_m: 1.2151\n",
            "Epoch 40/60\n",
            "5254/5254 [==============================] - 128s 24ms/step - loss: 0.7151 - accuracy: 0.8383 - recall_m: 1.5796 - precision_m: 477.0228 - f1_m: 1.3152 - val_loss: 0.6077 - val_accuracy: 0.8625 - val_recall_m: 1.4834 - val_precision_m: 1.1179 - val_f1_m: 1.2351\n",
            "Epoch 41/60\n",
            "5254/5254 [==============================] - 129s 24ms/step - loss: 0.7142 - accuracy: 0.8398 - recall_m: 1.5820 - precision_m: 1190.7531 - f1_m: 1.3131 - val_loss: 0.6052 - val_accuracy: 0.8639 - val_recall_m: 1.4777 - val_precision_m: 1.1110 - val_f1_m: 1.2283\n",
            "Epoch 42/60\n",
            "5254/5254 [==============================] - 127s 24ms/step - loss: 0.7126 - accuracy: 0.8393 - recall_m: 1.5899 - precision_m: 2380.2397 - f1_m: 1.3160 - val_loss: 0.6030 - val_accuracy: 0.8648 - val_recall_m: 1.4745 - val_precision_m: 1.1087 - val_f1_m: 1.2257\n",
            "Epoch 43/60\n",
            "5254/5254 [==============================] - 129s 24ms/step - loss: 0.7067 - accuracy: 0.8392 - recall_m: 1.5857 - precision_m: 1.1948 - f1_m: 1.3160 - val_loss: 0.5995 - val_accuracy: 0.8661 - val_recall_m: 1.4732 - val_precision_m: 1.1073 - val_f1_m: 1.2245\n",
            "Epoch 44/60\n",
            "5254/5254 [==============================] - 128s 24ms/step - loss: 0.6898 - accuracy: 0.8393 - recall_m: 1.5993 - precision_m: 239.1172 - f1_m: 1.3260 - val_loss: 0.5924 - val_accuracy: 0.8650 - val_recall_m: 1.4801 - val_precision_m: 1.1126 - val_f1_m: 1.2308\n",
            "Epoch 45/60\n",
            "5254/5254 [==============================] - 132s 25ms/step - loss: 0.7055 - accuracy: 0.8402 - recall_m: 1.5750 - precision_m: 2618.2209 - f1_m: 1.3105 - val_loss: 0.6152 - val_accuracy: 0.8652 - val_recall_m: 1.4334 - val_precision_m: 1.0940 - val_f1_m: 1.2027\n",
            "Epoch 46/60\n",
            "5254/5254 [==============================] - 127s 24ms/step - loss: 0.7067 - accuracy: 0.8415 - recall_m: 1.5452 - precision_m: 1428.6644 - f1_m: 1.2954 - val_loss: 0.6045 - val_accuracy: 0.8650 - val_recall_m: 1.4523 - val_precision_m: 1.1046 - val_f1_m: 1.2158\n",
            "Epoch 47/60\n",
            "5254/5254 [==============================] - 128s 24ms/step - loss: 0.7018 - accuracy: 0.8403 - recall_m: 1.5610 - precision_m: 3332.2512 - f1_m: 1.3041 - val_loss: 0.5994 - val_accuracy: 0.8665 - val_recall_m: 1.4520 - val_precision_m: 1.1010 - val_f1_m: 1.2136\n",
            "Epoch 48/60\n",
            "5254/5254 [==============================] - 128s 24ms/step - loss: 0.6956 - accuracy: 0.8412 - recall_m: 1.5942 - precision_m: 3807.8901 - f1_m: 1.3215 - val_loss: 0.5805 - val_accuracy: 0.8660 - val_recall_m: 1.4897 - val_precision_m: 1.1168 - val_f1_m: 1.2367\n",
            "Epoch 49/60\n",
            "5254/5254 [==============================] - 132s 25ms/step - loss: 0.6947 - accuracy: 0.8404 - recall_m: 1.6249 - precision_m: 2618.1768 - f1_m: 1.3389 - val_loss: 0.5810 - val_accuracy: 0.8658 - val_recall_m: 1.5152 - val_precision_m: 1.1297 - val_f1_m: 1.2521\n",
            "Epoch 50/60\n",
            "5254/5254 [==============================] - 128s 24ms/step - loss: 0.6887 - accuracy: 0.8409 - recall_m: 1.6425 - precision_m: 2856.1555 - f1_m: 1.3490 - val_loss: 0.5788 - val_accuracy: 0.8658 - val_recall_m: 1.5202 - val_precision_m: 1.1340 - val_f1_m: 1.2574\n",
            "Epoch 51/60\n",
            "5254/5254 [==============================] - 131s 25ms/step - loss: 0.6886 - accuracy: 0.8420 - recall_m: 1.5953 - precision_m: 1428.6786 - f1_m: 1.3232 - val_loss: 0.5847 - val_accuracy: 0.8644 - val_recall_m: 1.5081 - val_precision_m: 1.1310 - val_f1_m: 1.2518\n",
            "Epoch 52/60\n",
            "5254/5254 [==============================] - 128s 24ms/step - loss: 0.6748 - accuracy: 0.8431 - recall_m: 1.6101 - precision_m: 477.0304 - f1_m: 1.3308 - val_loss: 0.5782 - val_accuracy: 0.8662 - val_recall_m: 1.5039 - val_precision_m: 1.1220 - val_f1_m: 1.2449\n",
            "Epoch 53/60\n",
            "5254/5254 [==============================] - 133s 25ms/step - loss: 0.6849 - accuracy: 0.8416 - recall_m: 1.5900 - precision_m: 1.1958 - f1_m: 1.3196 - val_loss: 0.5940 - val_accuracy: 0.8655 - val_recall_m: 1.4690 - val_precision_m: 1.1125 - val_f1_m: 1.2270\n",
            "Epoch 54/60\n",
            "5254/5254 [==============================] - 128s 24ms/step - loss: 0.6724 - accuracy: 0.8435 - recall_m: 1.5859 - precision_m: 952.8434 - f1_m: 1.3143 - val_loss: 0.5968 - val_accuracy: 0.8663 - val_recall_m: 1.4632 - val_precision_m: 1.1060 - val_f1_m: 1.2216\n",
            "Epoch 55/60\n",
            "5254/5254 [==============================] - 127s 24ms/step - loss: 0.6826 - accuracy: 0.8419 - recall_m: 1.5834 - precision_m: 477.0173 - f1_m: 1.3142 - val_loss: 0.5807 - val_accuracy: 0.8654 - val_recall_m: 1.5015 - val_precision_m: 1.1247 - val_f1_m: 1.2455\n",
            "Epoch 56/60\n",
            "5254/5254 [==============================] - 129s 24ms/step - loss: 0.6767 - accuracy: 0.8426 - recall_m: 1.5870 - precision_m: 714.9346 - f1_m: 1.3169 - val_loss: 0.5730 - val_accuracy: 0.8687 - val_recall_m: 1.4857 - val_precision_m: 1.1166 - val_f1_m: 1.2355\n",
            "Epoch 57/60\n",
            "5254/5254 [==============================] - 132s 25ms/step - loss: 0.6723 - accuracy: 0.8457 - recall_m: 1.5930 - precision_m: 952.8536 - f1_m: 1.3228 - val_loss: 0.5724 - val_accuracy: 0.8679 - val_recall_m: 1.4661 - val_precision_m: 1.1113 - val_f1_m: 1.2262\n",
            "Epoch 58/60\n",
            "5254/5254 [==============================] - 132s 25ms/step - loss: 0.6752 - accuracy: 0.8438 - recall_m: 1.5940 - precision_m: 952.8575 - f1_m: 1.3271 - val_loss: 0.5800 - val_accuracy: 0.8688 - val_recall_m: 1.4758 - val_precision_m: 1.1150 - val_f1_m: 1.2315\n",
            "Epoch 59/60\n",
            "5254/5254 [==============================] - 127s 24ms/step - loss: 0.6700 - accuracy: 0.8435 - recall_m: 1.5812 - precision_m: 1.1944 - f1_m: 1.3159 - val_loss: 0.5797 - val_accuracy: 0.8687 - val_recall_m: 1.4441 - val_precision_m: 1.1011 - val_f1_m: 1.2119\n",
            "Epoch 60/60\n",
            "5254/5254 [==============================] - 128s 24ms/step - loss: 0.6817 - accuracy: 0.8447 - recall_m: 1.5473 - precision_m: 1904.4911 - f1_m: 1.2986 - val_loss: 0.5720 - val_accuracy: 0.8697 - val_recall_m: 1.4730 - val_precision_m: 1.1114 - val_f1_m: 1.2274\n"
          ]
        },
        {
          "output_type": "error",
          "ename": "IndexError",
          "evalue": "ignored",
          "traceback": [
            "\u001b[0;31m---------------------------------------------------------------------------\u001b[0m",
            "\u001b[0;31mIndexError\u001b[0m                                Traceback (most recent call last)",
            "\u001b[0;32m<ipython-input-32-7d53e1f149fc>\u001b[0m in \u001b[0;36m<module>\u001b[0;34m()\u001b[0m\n\u001b[1;32m     20\u001b[0m                   \u001b[0mepochs\u001b[0m\u001b[0;34m=\u001b[0m\u001b[0;36m60\u001b[0m\u001b[0;34m,\u001b[0m\u001b[0;34m\u001b[0m\u001b[0;34m\u001b[0m\u001b[0m\n\u001b[1;32m     21\u001b[0m                   \u001b[0mcallbacks\u001b[0m\u001b[0;34m=\u001b[0m\u001b[0;34m[\u001b[0m\u001b[0mcheckpoint\u001b[0m\u001b[0;34m,\u001b[0m \u001b[0mcheckpoint1\u001b[0m\u001b[0;34m,\u001b[0m \u001b[0mGarbageCollectorCallback\u001b[0m\u001b[0;34m(\u001b[0m\u001b[0;34m)\u001b[0m\u001b[0;34m]\u001b[0m\u001b[0;34m,\u001b[0m\u001b[0;34m\u001b[0m\u001b[0;34m\u001b[0m\u001b[0m\n\u001b[0;32m---> 22\u001b[0;31m                   \u001b[0mvalidation_data\u001b[0m\u001b[0;34m=\u001b[0m\u001b[0;34m(\u001b[0m\u001b[0mX_test\u001b[0m\u001b[0;34m,\u001b[0m\u001b[0my_test\u001b[0m\u001b[0;34m)\u001b[0m\u001b[0;34m,\u001b[0m\u001b[0;34m\u001b[0m\u001b[0;34m\u001b[0m\u001b[0m\n\u001b[0m\u001b[1;32m     23\u001b[0m \u001b[0;34m\u001b[0m\u001b[0m\n\u001b[1;32m     24\u001b[0m )\n",
            "\u001b[0;32m/usr/local/lib/python3.7/dist-packages/keras/engine/training.py\u001b[0m in \u001b[0;36mfit\u001b[0;34m(self, x, y, batch_size, epochs, verbose, callbacks, validation_split, validation_data, shuffle, class_weight, sample_weight, initial_epoch, steps_per_epoch, validation_steps, validation_batch_size, validation_freq, max_queue_size, workers, use_multiprocessing)\u001b[0m\n\u001b[1;32m   1237\u001b[0m         \u001b[0;32mdel\u001b[0m \u001b[0mself\u001b[0m\u001b[0;34m.\u001b[0m\u001b[0m_eval_data_handler\u001b[0m\u001b[0;34m\u001b[0m\u001b[0;34m\u001b[0m\u001b[0m\n\u001b[1;32m   1238\u001b[0m       \u001b[0mcallbacks\u001b[0m\u001b[0;34m.\u001b[0m\u001b[0mon_train_end\u001b[0m\u001b[0;34m(\u001b[0m\u001b[0mlogs\u001b[0m\u001b[0;34m=\u001b[0m\u001b[0mtraining_logs\u001b[0m\u001b[0;34m)\u001b[0m\u001b[0;34m\u001b[0m\u001b[0;34m\u001b[0m\u001b[0m\n\u001b[0;32m-> 1239\u001b[0;31m       \u001b[0;32mreturn\u001b[0m \u001b[0mself\u001b[0m\u001b[0;34m.\u001b[0m\u001b[0mhistory\u001b[0m\u001b[0;34m\u001b[0m\u001b[0;34m\u001b[0m\u001b[0m\n\u001b[0m\u001b[1;32m   1240\u001b[0m \u001b[0;34m\u001b[0m\u001b[0m\n\u001b[1;32m   1241\u001b[0m   \u001b[0;32mdef\u001b[0m \u001b[0mtest_step\u001b[0m\u001b[0;34m(\u001b[0m\u001b[0mself\u001b[0m\u001b[0;34m,\u001b[0m \u001b[0mdata\u001b[0m\u001b[0;34m)\u001b[0m\u001b[0;34m:\u001b[0m\u001b[0;34m\u001b[0m\u001b[0;34m\u001b[0m\u001b[0m\n",
            "\u001b[0;32m/usr/local/lib/python3.7/dist-packages/tensorflow/python/distribute/distribute_lib.py\u001b[0m in \u001b[0;36m__exit__\u001b[0;34m(self, exception_type, exception_value, traceback)\u001b[0m\n\u001b[1;32m    431\u001b[0m                          \"tf.distribute.set_strategy() out of `with` scope.\"),\n\u001b[1;32m    432\u001b[0m             e)\n\u001b[0;32m--> 433\u001b[0;31m     \u001b[0m_pop_per_thread_mode\u001b[0m\u001b[0;34m(\u001b[0m\u001b[0;34m)\u001b[0m\u001b[0;34m\u001b[0m\u001b[0;34m\u001b[0m\u001b[0m\n\u001b[0m\u001b[1;32m    434\u001b[0m \u001b[0;34m\u001b[0m\u001b[0m\n\u001b[1;32m    435\u001b[0m \u001b[0;34m\u001b[0m\u001b[0m\n",
            "\u001b[0;32m/usr/local/lib/python3.7/dist-packages/tensorflow/python/distribute/distribution_strategy_context.py\u001b[0m in \u001b[0;36m_pop_per_thread_mode\u001b[0;34m()\u001b[0m\n\u001b[1;32m     64\u001b[0m \u001b[0;34m\u001b[0m\u001b[0m\n\u001b[1;32m     65\u001b[0m \u001b[0;32mdef\u001b[0m \u001b[0m_pop_per_thread_mode\u001b[0m\u001b[0;34m(\u001b[0m\u001b[0;34m)\u001b[0m\u001b[0;34m:\u001b[0m\u001b[0;34m\u001b[0m\u001b[0;34m\u001b[0m\u001b[0m\n\u001b[0;32m---> 66\u001b[0;31m   \u001b[0mops\u001b[0m\u001b[0;34m.\u001b[0m\u001b[0mget_default_graph\u001b[0m\u001b[0;34m(\u001b[0m\u001b[0;34m)\u001b[0m\u001b[0;34m.\u001b[0m\u001b[0m_distribution_strategy_stack\u001b[0m\u001b[0;34m.\u001b[0m\u001b[0mpop\u001b[0m\u001b[0;34m(\u001b[0m\u001b[0;34m-\u001b[0m\u001b[0;36m1\u001b[0m\u001b[0;34m)\u001b[0m  \u001b[0;31m# pylint: disable=protected-access\u001b[0m\u001b[0;34m\u001b[0m\u001b[0;34m\u001b[0m\u001b[0m\n\u001b[0m\u001b[1;32m     67\u001b[0m \u001b[0;34m\u001b[0m\u001b[0m\n\u001b[1;32m     68\u001b[0m \u001b[0;34m\u001b[0m\u001b[0m\n",
            "\u001b[0;31mIndexError\u001b[0m: pop from empty list"
          ]
        }
      ]
    },
    {
      "cell_type": "code",
      "metadata": {
        "id": "46ZO0358yrSp"
      },
      "source": [
        "gc.collect()"
      ],
      "execution_count": null,
      "outputs": []
    }
  ]
}